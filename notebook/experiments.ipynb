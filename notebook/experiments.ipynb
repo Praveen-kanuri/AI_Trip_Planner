{
 "cells": [
  {
   "cell_type": "code",
   "execution_count": null,
   "id": "cc8380fc",
   "metadata": {
    "vscode": {
     "languageId": "plaintext"
    }
   },
   "outputs": [],
   "source": [
    "print(\"ok\")"
   ]
  }
 ],
 "metadata": {
  "language_info": {
   "name": "python"
  }
 },
 "nbformat": 4,
 "nbformat_minor": 5
}
